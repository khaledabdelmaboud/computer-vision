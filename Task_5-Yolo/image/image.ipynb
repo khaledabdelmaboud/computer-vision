{
 "cells": [
  {
   "cell_type": "code",
   "execution_count": 3,
   "id": "5c97fe91-3b64-4809-8051-e68ae9d4ce68",
   "metadata": {},
   "outputs": [],
   "source": [
    "from ultralytics import YOLO\n",
    "import matplotlib.pyplot as plt\n",
    "import matplotlib.image as mpimg\n",
    "import cv2"
   ]
  },
  {
   "cell_type": "code",
   "execution_count": 4,
   "id": "831773cc-cebd-4ddc-b8e0-a3af9855fc39",
   "metadata": {},
   "outputs": [
    {
     "name": "stdout",
     "output_type": "stream",
     "text": [
      "\n",
      "image 1/1 C:\\Users\\hp\\Desktop\\NTI1\\dataset_CV\\CODE_SEC\\IMG_0035.JPG: 448x640 9 persons, 112.9ms\n",
      "Speed: 15.6ms preprocess, 112.9ms inference, 0.0ms postprocess per image at shape (1, 3, 448, 640)\n",
      "Results saved to \u001b[1mruns\\detect\\predict3\u001b[0m\n"
     ]
    }
   ],
   "source": [
    "model = YOLO(r\"C:\\Users\\hp\\Desktop\\NTI1\\dataset_CV\\CODE_SEC\\yolov8n.pt\")\n",
    "results = model(source=r\"C:\\Users\\hp\\Desktop\\NTI1\\dataset_CV\\CODE_SEC\\IMG_0035.JPG\", show=True, conf=0.4, save=True)"
   ]
  },
  {
   "cell_type": "code",
   "execution_count": null,
   "id": "b24e3f1e-198b-47f0-8278-115d6763f502",
   "metadata": {},
   "outputs": [],
   "source": [
    "#to show results\n",
    "result_img = results[0].plot()  \n",
    "plt.imshow(result_img)\n",
    "plt.axis('off')\n",
    "plt.show()"
   ]
  },
  {
   "cell_type": "code",
   "execution_count": null,
   "id": "04bc5066-5602-445c-9fe1-e59ecc11bae0",
   "metadata": {},
   "outputs": [],
   "source": []
  },
  {
   "cell_type": "code",
   "execution_count": null,
   "id": "3c4fda73-8a32-441d-aa55-23fa49d7ccc4",
   "metadata": {},
   "outputs": [],
   "source": []
  }
 ],
 "metadata": {
  "kernelspec": {
   "display_name": "Python 3 (ipykernel)",
   "language": "python",
   "name": "python3"
  },
  "language_info": {
   "codemirror_mode": {
    "name": "ipython",
    "version": 3
   },
   "file_extension": ".py",
   "mimetype": "text/x-python",
   "name": "python",
   "nbconvert_exporter": "python",
   "pygments_lexer": "ipython3",
   "version": "3.12.4"
  }
 },
 "nbformat": 4,
 "nbformat_minor": 5
}
