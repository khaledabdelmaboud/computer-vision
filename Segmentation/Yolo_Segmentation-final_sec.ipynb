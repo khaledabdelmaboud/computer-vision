{
 "cells": [
  {
   "cell_type": "code",
   "execution_count": 1,
   "id": "b37ec2ee-7e5a-45d7-bb43-224f695d13a0",
   "metadata": {},
   "outputs": [],
   "source": [
    "#pip install ultralytics\n"
   ]
  },
  {
   "cell_type": "code",
   "execution_count": 2,
   "id": "9d7015dd-af88-42cb-b23c-602e5ae5aad2",
   "metadata": {},
   "outputs": [],
   "source": [
    "from ultralytics import YOLO\n",
    "import matplotlib.pyplot as plt"
   ]
  },
  {
   "cell_type": "code",
   "execution_count": null,
   "id": "e19b784a-d2d2-4a69-bd2f-8fa0eca71233",
   "metadata": {},
   "outputs": [
    {
     "name": "stdout",
     "output_type": "stream",
     "text": [
      "\n",
      "image 1/1 C:\\Users\\hp\\Desktop\\NTI1\\dataset_CV\\CODE_SEC\\Image .jpg: 640x640 1 cat, 1 dog, 437.4ms\n",
      "Speed: 15.7ms preprocess, 437.4ms inference, 34.5ms postprocess per image at shape (1, 3, 640, 640)\n"
     ]
    }
   ],
   "source": [
    "# Load a model (YOLOv8)\n",
    "model =YOLO(r\"C:\\Users\\hp\\Desktop\\NTI1\\dataset_CV\\CODE_SEC\\yolov8n-seg.pt\")  # Make sure the path is correct\n",
    "\n",
    "# Predict with the model (using an image URL)\n",
    "results = model(r\"C:\\Users\\hp\\Desktop\\NTI1\\dataset_CV\\CODE_SEC\\Image .jpg\")  # This URL points to an image of a bus\n",
    "\n",
    "result_img = results[0].plot()\n",
    "plt.imshow(result_img)\n",
    "plt.axis('off')\n",
    "plt.show()"
   ]
  },
  {
   "cell_type": "code",
   "execution_count": null,
   "id": "70b9c6f3-927d-4bf6-be35-a586907285cf",
   "metadata": {},
   "outputs": [],
   "source": []
  },
  {
   "cell_type": "code",
   "execution_count": null,
   "id": "30e841d7-36d0-4db2-bc09-a0d5b66ddfeb",
   "metadata": {},
   "outputs": [],
   "source": []
  }
 ],
 "metadata": {
  "kernelspec": {
   "display_name": "Python 3 (ipykernel)",
   "language": "python",
   "name": "python3"
  },
  "language_info": {
   "codemirror_mode": {
    "name": "ipython",
    "version": 3
   },
   "file_extension": ".py",
   "mimetype": "text/x-python",
   "name": "python",
   "nbconvert_exporter": "python",
   "pygments_lexer": "ipython3",
   "version": "3.12.4"
  }
 },
 "nbformat": 4,
 "nbformat_minor": 5
}
