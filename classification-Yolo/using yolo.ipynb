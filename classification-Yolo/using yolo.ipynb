{
 "cells": [
  {
   "cell_type": "code",
   "execution_count": 1,
   "id": "5e65eb76-305b-4957-958f-165b084afd0a",
   "metadata": {},
   "outputs": [],
   "source": [
    "from ultralytics import YOLO\n"
   ]
  },
  {
   "cell_type": "code",
   "execution_count": 2,
   "id": "ce19ae68-59dc-4200-8280-8abd02e42eb3",
   "metadata": {},
   "outputs": [],
   "source": [
    "model = YOLO(r\"C:\\Users\\hp\\Desktop\\NTI1\\dataset_CV\\CODE_SEC\\yolo11n-cls.pt\")\n"
   ]
  },
  {
   "cell_type": "code",
   "execution_count": null,
   "id": "d03874cd-9492-4fca-bf22-1779606d1553",
   "metadata": {},
   "outputs": [
    {
     "name": "stdout",
     "output_type": "stream",
     "text": [
      "New https://pypi.org/project/ultralytics/8.3.48 available  Update with 'pip install -U ultralytics'\n",
      "Ultralytics 8.3.39  Python-3.12.4 torch-2.5.1+cpu CPU (Intel Core(TM) i7-6820HQ 2.70GHz)\n",
      "\u001b[34m\u001b[1mengine\\trainer: \u001b[0mtask=classify, mode=train, model=C:\\Users\\hp\\Desktop\\NTI1\\dataset_CV\\CODE_SEC\\yolo11n-cls.pt, data=C:\\Users\\hp\\Desktop\\NTI1\\dataset_CV\\Alzheimer_s Dataset, epochs=5, time=None, patience=100, batch=16, imgsz=224, save=True, save_period=-1, cache=False, device=None, workers=8, project=None, name=train2, exist_ok=False, pretrained=True, optimizer=auto, verbose=True, seed=0, deterministic=True, single_cls=False, rect=False, cos_lr=False, close_mosaic=10, resume=False, amp=True, fraction=1.0, profile=False, freeze=None, multi_scale=False, overlap_mask=True, mask_ratio=4, dropout=0.0, val=True, split=val, save_json=False, save_hybrid=False, conf=None, iou=0.7, max_det=300, half=False, dnn=False, plots=True, source=None, vid_stride=1, stream_buffer=False, visualize=False, augment=False, agnostic_nms=False, classes=None, retina_masks=False, embed=None, show=False, save_frames=False, save_txt=False, save_conf=False, save_crop=False, show_labels=True, show_conf=True, show_boxes=True, line_width=None, format=torchscript, keras=False, optimize=False, int8=False, dynamic=False, simplify=True, opset=None, workspace=None, nms=False, lr0=0.01, lrf=0.01, momentum=0.937, weight_decay=0.0005, warmup_epochs=3.0, warmup_momentum=0.8, warmup_bias_lr=0.1, box=7.5, cls=0.5, dfl=1.5, pose=12.0, kobj=1.0, nbs=64, hsv_h=0.015, hsv_s=0.7, hsv_v=0.4, degrees=0.0, translate=0.1, scale=0.5, shear=0.0, perspective=0.0, flipud=0.0, fliplr=0.5, bgr=0.0, mosaic=1.0, mixup=0.0, copy_paste=0.0, copy_paste_mode=flip, auto_augment=randaugment, erasing=0.4, crop_fraction=1.0, cfg=None, tracker=botsort.yaml, save_dir=runs\\classify\\train2\n",
      "\u001b[34m\u001b[1mtrain:\u001b[0m C:\\Users\\hp\\Desktop\\NTI1\\dataset_CV\\Alzheimer_s Dataset\\train... found 5121 images in 4 classes  \n",
      "\u001b[34m\u001b[1mval:\u001b[0m None...\n",
      "\u001b[34m\u001b[1mtest:\u001b[0m C:\\Users\\hp\\Desktop\\NTI1\\dataset_CV\\Alzheimer_s Dataset\\test... found 1279 images in 4 classes  \n",
      "Overriding model.yaml nc=80 with nc=4\n",
      "\n",
      "                   from  n    params  module                                       arguments                     \n",
      "  0                  -1  1       464  ultralytics.nn.modules.conv.Conv             [3, 16, 3, 2]                 \n",
      "  1                  -1  1      4672  ultralytics.nn.modules.conv.Conv             [16, 32, 3, 2]                \n",
      "  2                  -1  1      6640  ultralytics.nn.modules.block.C3k2            [32, 64, 1, False, 0.25]      \n",
      "  3                  -1  1     36992  ultralytics.nn.modules.conv.Conv             [64, 64, 3, 2]                \n",
      "  4                  -1  1     26080  ultralytics.nn.modules.block.C3k2            [64, 128, 1, False, 0.25]     \n",
      "  5                  -1  1    147712  ultralytics.nn.modules.conv.Conv             [128, 128, 3, 2]              \n",
      "  6                  -1  1     87040  ultralytics.nn.modules.block.C3k2            [128, 128, 1, True]           \n",
      "  7                  -1  1    295424  ultralytics.nn.modules.conv.Conv             [128, 256, 3, 2]              \n",
      "  8                  -1  1    346112  ultralytics.nn.modules.block.C3k2            [256, 256, 1, True]           \n",
      "  9                  -1  1    249728  ultralytics.nn.modules.block.C2PSA           [256, 256, 1]                 \n",
      " 10                  -1  1    335364  ultralytics.nn.modules.head.Classify         [256, 4]                      \n",
      "YOLO11n-cls summary: 151 layers, 1,536,228 parameters, 1,536,228 gradients, 3.3 GFLOPs\n",
      "Transferred 234/236 items from pretrained weights\n",
      "\u001b[34m\u001b[1mTensorBoard: \u001b[0mStart with 'tensorboard --logdir runs\\classify\\train2', view at http://localhost:6006/\n"
     ]
    },
    {
     "name": "stderr",
     "output_type": "stream",
     "text": [
      "\u001b[34m\u001b[1mtrain: \u001b[0mScanning C:\\Users\\hp\\Desktop\\NTI1\\dataset_CV\\Alzheimer_s Dataset\\train... 5121 images, 0 corrupt: 100%|█████████\u001b[0m\n",
      "\u001b[34m\u001b[1mval: \u001b[0mScanning C:\\Users\\hp\\Desktop\\NTI1\\dataset_CV\\Alzheimer_s Dataset\\test... 1279 images, 0 corrupt: 100%|██████████| \u001b[0m\n"
     ]
    },
    {
     "name": "stdout",
     "output_type": "stream",
     "text": [
      "\u001b[34m\u001b[1moptimizer:\u001b[0m 'optimizer=auto' found, ignoring 'lr0=0.01' and 'momentum=0.937' and determining best 'optimizer', 'lr0' and 'momentum' automatically... \n",
      "\u001b[34m\u001b[1moptimizer:\u001b[0m AdamW(lr=0.000714, momentum=0.9) with parameter groups 39 weight(decay=0.0), 40 weight(decay=0.0005), 40 bias(decay=0.0)\n",
      "\u001b[34m\u001b[1mTensorBoard: \u001b[0mmodel graph visualization added \n",
      "Image sizes 224 train, 224 val\n",
      "Using 0 dataloader workers\n",
      "Logging results to \u001b[1mruns\\classify\\train2\u001b[0m\n",
      "Starting training for 5 epochs...\n",
      "\n",
      "      Epoch    GPU_mem       loss  Instances       Size\n"
     ]
    },
    {
     "name": "stderr",
     "output_type": "stream",
     "text": [
      "        1/5         0G      1.031          1        224: 100%|██████████| 321/321 [03:01<00:00,  1.77it/s]\n",
      "               classes   top1_acc   top5_acc: 100%|██████████| 40/40 [00:13<00:00,  3.03it/s]"
     ]
    },
    {
     "name": "stdout",
     "output_type": "stream",
     "text": [
      "                   all      0.506          1\n"
     ]
    },
    {
     "name": "stderr",
     "output_type": "stream",
     "text": [
      "\n"
     ]
    },
    {
     "name": "stdout",
     "output_type": "stream",
     "text": [
      "\n",
      "      Epoch    GPU_mem       loss  Instances       Size\n"
     ]
    },
    {
     "name": "stderr",
     "output_type": "stream",
     "text": [
      "        2/5         0G     0.8805          1        224: 100%|██████████| 321/321 [02:47<00:00,  1.91it/s]\n",
      "               classes   top1_acc   top5_acc: 100%|██████████| 40/40 [00:14<00:00,  2.80it/s]"
     ]
    },
    {
     "name": "stdout",
     "output_type": "stream",
     "text": [
      "                   all        0.6          1\n"
     ]
    },
    {
     "name": "stderr",
     "output_type": "stream",
     "text": [
      "\n"
     ]
    },
    {
     "name": "stdout",
     "output_type": "stream",
     "text": [
      "\n",
      "      Epoch    GPU_mem       loss  Instances       Size\n"
     ]
    },
    {
     "name": "stderr",
     "output_type": "stream",
     "text": [
      "        3/5         0G     0.8379          1        224: 100%|██████████| 321/321 [02:56<00:00,  1.82it/s]\n",
      "               classes   top1_acc   top5_acc: 100%|██████████| 40/40 [00:13<00:00,  2.98it/s]"
     ]
    },
    {
     "name": "stdout",
     "output_type": "stream",
     "text": [
      "                   all      0.623          1\n"
     ]
    },
    {
     "name": "stderr",
     "output_type": "stream",
     "text": [
      "\n"
     ]
    },
    {
     "name": "stdout",
     "output_type": "stream",
     "text": [
      "\n",
      "      Epoch    GPU_mem       loss  Instances       Size\n"
     ]
    },
    {
     "name": "stderr",
     "output_type": "stream",
     "text": [
      "        4/5         0G     0.7729          1        224: 100%|██████████| 321/321 [02:56<00:00,  1.81it/s]\n",
      "               classes   top1_acc   top5_acc: 100%|██████████| 40/40 [00:14<00:00,  2.72it/s]"
     ]
    },
    {
     "name": "stdout",
     "output_type": "stream",
     "text": [
      "                   all       0.64          1\n"
     ]
    },
    {
     "name": "stderr",
     "output_type": "stream",
     "text": [
      "\n"
     ]
    },
    {
     "name": "stdout",
     "output_type": "stream",
     "text": [
      "\n",
      "      Epoch    GPU_mem       loss  Instances       Size\n"
     ]
    },
    {
     "name": "stderr",
     "output_type": "stream",
     "text": [
      "        5/5         0G     0.6887          1        224: 100%|██████████| 321/321 [02:56<00:00,  1.81it/s]\n",
      "               classes   top1_acc   top5_acc: 100%|██████████| 40/40 [00:14<00:00,  2.79it/s]"
     ]
    },
    {
     "name": "stdout",
     "output_type": "stream",
     "text": [
      "                   all      0.654          1\n"
     ]
    },
    {
     "name": "stderr",
     "output_type": "stream",
     "text": [
      "\n"
     ]
    },
    {
     "name": "stdout",
     "output_type": "stream",
     "text": [
      "\n",
      "5 epochs completed in 0.265 hours.\n",
      "Optimizer stripped from runs\\classify\\train2\\weights\\last.pt, 3.2MB\n",
      "Optimizer stripped from runs\\classify\\train2\\weights\\best.pt, 3.2MB\n",
      "\n",
      "Validating runs\\classify\\train2\\weights\\best.pt...\n",
      "Ultralytics 8.3.39  Python-3.12.4 torch-2.5.1+cpu CPU (Intel Core(TM) i7-6820HQ 2.70GHz)\n",
      "YOLO11n-cls summary (fused): 112 layers, 1,531,148 parameters, 0 gradients, 3.2 GFLOPs\n",
      "WARNING  Dataset 'split=val' not found, using 'split=test' instead.\n",
      "\u001b[34m\u001b[1mtrain:\u001b[0m C:\\Users\\hp\\Desktop\\NTI1\\dataset_CV\\Alzheimer_s Dataset\\train... found 5121 images in 4 classes  \n",
      "\u001b[34m\u001b[1mval:\u001b[0m None...\n",
      "\u001b[34m\u001b[1mtest:\u001b[0m C:\\Users\\hp\\Desktop\\NTI1\\dataset_CV\\Alzheimer_s Dataset\\test... found 1279 images in 4 classes  \n"
     ]
    },
    {
     "name": "stderr",
     "output_type": "stream",
     "text": [
      "               classes   top1_acc   top5_acc: 100%|██████████| 40/40 [00:11<00:00,  3.58it/s]\n"
     ]
    }
   ],
   "source": [
    "\n",
    "model.train(data=r\"C:\\Users\\hp\\Desktop\\NTI1\\dataset_CV\\Alzheimer_s Dataset\", epochs=5)"
   ]
  },
  {
   "cell_type": "code",
   "execution_count": null,
   "id": "16e24a0f-fb2c-4b8c-9857-4fc9111f232b",
   "metadata": {},
   "outputs": [],
   "source": [
    "metrics = model.val()\n",
    "metrics.top1    #accuracy\n",
    "metrics.top5 "
   ]
  },
  {
   "cell_type": "code",
   "execution_count": null,
   "id": "8badc3a8-df3b-4ad3-b4c6-38bad16c9af9",
   "metadata": {},
   "outputs": [],
   "source": [
    "# Assuming 'results' is a list of prediction objects\n",
    "results = model.predict(r\"C:\\Users\\hp\\Desktop\\NTI1\\dataset_CV\\Alzheimer_s Dataset\\test\\MildDemented\\26 (20).jpg\")\n",
    "\n",
    " probs = results.probs # Probs object for the first classification outputs\n",
    " print(probs.data)\n"
   ]
  }
 ],
 "metadata": {
  "kernelspec": {
   "display_name": "Python 3 (ipykernel)",
   "language": "python",
   "name": "python3"
  },
  "language_info": {
   "codemirror_mode": {
    "name": "ipython",
    "version": 3
   },
   "file_extension": ".py",
   "mimetype": "text/x-python",
   "name": "python",
   "nbconvert_exporter": "python",
   "pygments_lexer": "ipython3",
   "version": "3.12.4"
  }
 },
 "nbformat": 4,
 "nbformat_minor": 5
}
